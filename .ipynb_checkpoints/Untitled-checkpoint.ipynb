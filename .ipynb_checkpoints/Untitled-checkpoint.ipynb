{
 "cells": [
  {
   "cell_type": "code",
   "execution_count": 1,
   "id": "4d1095b9",
   "metadata": {},
   "outputs": [],
   "source": [
    "import pandas as pd\n",
    "import numpy as np"
   ]
  },
  {
   "cell_type": "markdown",
   "id": "bfd89a90",
   "metadata": {},
   "source": [
    "### Exploring the dataset\n",
    "\n",
    "First we are going to import the word list and then we are going to look at basic stats"
   ]
  },
  {
   "cell_type": "code",
   "execution_count": 16,
   "id": "1713734d",
   "metadata": {},
   "outputs": [
    {
     "data": {
      "text/plain": [
       "0        aahed\n",
       "1        aalii\n",
       "2        aargh\n",
       "3        aarti\n",
       "4        abaca\n",
       "         ...  \n",
       "12967    zuzim\n",
       "12968    zygal\n",
       "12969    zygon\n",
       "12970    zymes\n",
       "12971    zymic\n",
       "Name: 0, Length: 12972, dtype: object"
      ]
     },
     "execution_count": 16,
     "metadata": {},
     "output_type": "execute_result"
    }
   ],
   "source": [
    "wordlist = pd.read_csv(\"./botfights-sdk/wordle/python/wordlist.txt\",header=None)[0]\n",
    "wordlist"
   ]
  },
  {
   "cell_type": "markdown",
   "id": "171997c1",
   "metadata": {},
   "source": [
    "Now to put it in a dataframe that will include a column for each letter so we can break it down."
   ]
  },
  {
   "cell_type": "code",
   "execution_count": 45,
   "id": "fbf47b20",
   "metadata": {},
   "outputs": [],
   "source": [
    "letters ='abcdefghijklmnopqrstuvwxyz'\n",
    "letterdf = pd.DataFrame({'words':wordlist})\n",
    "\n",
    "for x in letters:\n",
    "    letterdf.insert(letterdf.columns.shape[0], x, wordlist.str.count(x))"
   ]
  },
  {
   "cell_type": "markdown",
   "id": "642171c9",
   "metadata": {},
   "source": [
    "Now to get some stats"
   ]
  },
  {
   "cell_type": "code",
   "execution_count": 68,
   "id": "30793a6d",
   "metadata": {},
   "outputs": [
    {
     "data": {
      "text/plain": [
       "s    6665\n",
       "e    6662\n",
       "a    5990\n",
       "o    4438\n",
       "r    4158\n",
       "i    3759\n",
       "l    3371\n",
       "t    3295\n",
       "n    2952\n",
       "u    2511\n",
       "d    2453\n",
       "y    2074\n",
       "c    2028\n",
       "p    2019\n",
       "m    1976\n",
       "h    1760\n",
       "g    1644\n",
       "b    1627\n",
       "k    1505\n",
       "f    1115\n",
       "w    1039\n",
       "v     694\n",
       "z     434\n",
       "j     291\n",
       "x     288\n",
       "q     112\n",
       "dtype: int64"
      ]
     },
     "execution_count": 68,
     "metadata": {},
     "output_type": "execute_result"
    }
   ],
   "source": [
    "#common occurence of each letter\n",
    "letterdf.iloc[:,1:27].sum().sort_values(ascending=False)"
   ]
  },
  {
   "cell_type": "code",
   "execution_count": 67,
   "id": "9fbc7f45",
   "metadata": {},
   "outputs": [
    {
     "data": {
      "text/plain": [
       "s    5936\n",
       "e    5705\n",
       "a    5330\n",
       "o    3911\n",
       "r    3909\n",
       "i    3589\n",
       "l    3114\n",
       "t    3033\n",
       "n    2787\n",
       "u    2436\n",
       "d    2298\n",
       "y    2031\n",
       "c    1920\n",
       "p    1885\n",
       "m    1868\n",
       "h    1708\n",
       "g    1543\n",
       "b    1519\n",
       "k    1444\n",
       "w    1028\n",
       "f     990\n",
       "v     674\n",
       "z     391\n",
       "j     289\n",
       "x     287\n",
       "q     111\n",
       "dtype: int64"
      ]
     },
     "execution_count": 67,
     "metadata": {},
     "output_type": "execute_result"
    }
   ],
   "source": [
    "#looking how common each letter appears in the word list \n",
    "(letterdf.iloc[:,1:27] > 0).sum().sort_values(ascending=False)"
   ]
  },
  {
   "cell_type": "markdown",
   "id": "ced77dbd",
   "metadata": {},
   "source": [
    "Let's see if any words include the top 5 letters (s,e,a,o,r)"
   ]
  },
  {
   "cell_type": "code",
   "execution_count": 75,
   "id": "123d646f",
   "metadata": {},
   "outputs": [
    {
     "data": {
      "text/plain": [
       "140      aeros\n",
       "549      arose\n",
       "10364    soare\n",
       "Name: 0, dtype: object"
      ]
     },
     "execution_count": 75,
     "metadata": {},
     "output_type": "execute_result"
    }
   ],
   "source": [
    "wordlist[wordlist.str.contains('a') & wordlist.str.contains('s')& wordlist.str.contains('e')\n",
    "        & wordlist.str.contains('o')& wordlist.str.contains('r')]"
   ]
  },
  {
   "cell_type": "code",
   "execution_count": null,
   "id": "7b38a6b4",
   "metadata": {},
   "outputs": [],
   "source": []
  }
 ],
 "metadata": {
  "kernelspec": {
   "display_name": "Python 3 (ipykernel)",
   "language": "python",
   "name": "python3"
  },
  "language_info": {
   "codemirror_mode": {
    "name": "ipython",
    "version": 3
   },
   "file_extension": ".py",
   "mimetype": "text/x-python",
   "name": "python",
   "nbconvert_exporter": "python",
   "pygments_lexer": "ipython3",
   "version": "3.9.7"
  }
 },
 "nbformat": 4,
 "nbformat_minor": 5
}

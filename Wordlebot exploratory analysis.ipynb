{
 "cells": [
  {
   "cell_type": "code",
   "execution_count": 1,
   "id": "4d1095b9",
   "metadata": {},
   "outputs": [],
   "source": [
    "import pandas as pd\n",
    "import numpy as np"
   ]
  },
  {
   "cell_type": "markdown",
   "id": "bfd89a90",
   "metadata": {},
   "source": [
    "### Exploring the dataset\n",
    "\n",
    "First we are going to import the word list and then we are going to look at basic stats"
   ]
  },
  {
   "cell_type": "code",
   "execution_count": 2,
   "id": "1713734d",
   "metadata": {},
   "outputs": [
    {
     "data": {
      "text/plain": [
       "0        aahed\n",
       "1        aalii\n",
       "2        aargh\n",
       "3        aarti\n",
       "4        abaca\n",
       "         ...  \n",
       "12967    zuzim\n",
       "12968    zygal\n",
       "12969    zygon\n",
       "12970    zymes\n",
       "12971    zymic\n",
       "Name: 0, Length: 12972, dtype: object"
      ]
     },
     "execution_count": 2,
     "metadata": {},
     "output_type": "execute_result"
    }
   ],
   "source": [
    "wordlist = pd.read_csv(\"./botfights-sdk/wordle/python/wordlist.txt\",header=None)[0]\n",
    "wordlist"
   ]
  },
  {
   "cell_type": "markdown",
   "id": "171997c1",
   "metadata": {},
   "source": [
    "Now to put it in a dataframe that will include a column for each letter so we can break it down."
   ]
  },
  {
   "cell_type": "code",
   "execution_count": 3,
   "id": "fbf47b20",
   "metadata": {},
   "outputs": [],
   "source": [
    "letters ='abcdefghijklmnopqrstuvwxyz'\n",
    "letterdf = pd.DataFrame({'words':wordlist})\n",
    "\n",
    "for x in letters:\n",
    "    letterdf.insert(letterdf.columns.shape[0], x, wordlist.str.count(x))"
   ]
  },
  {
   "cell_type": "markdown",
   "id": "642171c9",
   "metadata": {},
   "source": [
    "Now to get some stats"
   ]
  },
  {
   "cell_type": "code",
   "execution_count": 4,
   "id": "30793a6d",
   "metadata": {},
   "outputs": [
    {
     "data": {
      "text/plain": [
       "s    6665\n",
       "e    6662\n",
       "a    5990\n",
       "o    4438\n",
       "r    4158\n",
       "i    3759\n",
       "l    3371\n",
       "t    3295\n",
       "n    2952\n",
       "u    2511\n",
       "d    2453\n",
       "y    2074\n",
       "c    2028\n",
       "p    2019\n",
       "m    1976\n",
       "h    1760\n",
       "g    1644\n",
       "b    1627\n",
       "k    1505\n",
       "f    1115\n",
       "w    1039\n",
       "v     694\n",
       "z     434\n",
       "j     291\n",
       "x     288\n",
       "q     112\n",
       "dtype: int64"
      ]
     },
     "execution_count": 4,
     "metadata": {},
     "output_type": "execute_result"
    }
   ],
   "source": [
    "#common occurence of each letter\n",
    "letterdf.iloc[:,1:27].sum().sort_values(ascending=False)"
   ]
  },
  {
   "cell_type": "code",
   "execution_count": 38,
   "id": "9fbc7f45",
   "metadata": {},
   "outputs": [
    {
     "data": {
      "text/plain": [
       "s    5936\n",
       "e    5705\n",
       "a    5330\n",
       "o    3911\n",
       "r    3909\n",
       "i    3589\n",
       "l    3114\n",
       "t    3033\n",
       "n    2787\n",
       "u    2436\n",
       "d    2298\n",
       "y    2031\n",
       "c    1920\n",
       "p    1885\n",
       "m    1868\n",
       "h    1708\n",
       "g    1543\n",
       "b    1519\n",
       "k    1444\n",
       "w    1028\n",
       "f     990\n",
       "v     674\n",
       "z     391\n",
       "j     289\n",
       "x     287\n",
       "q     111\n",
       "dtype: int64"
      ]
     },
     "execution_count": 38,
     "metadata": {},
     "output_type": "execute_result"
    }
   ],
   "source": [
    "#looking how common each letter appears in the word list \n",
    "(letterdf.iloc[:,1:27] > 0).sum().sort_values(ascending=False)"
   ]
  },
  {
   "cell_type": "code",
   "execution_count": 42,
   "id": "fff5120b",
   "metadata": {},
   "outputs": [],
   "source": [
    "letterdict = {}\n",
    "for x in range(len((letterdf.iloc[:,1:27] > 0).sum().sort_values(ascending=True))):\n",
    "    letterdict[(letterdf.iloc[:,1:27] > 0).sum().sort_values(ascending=True).index[x]] = x\n",
    "    "
   ]
  },
  {
   "cell_type": "code",
   "execution_count": 43,
   "id": "573ca2ab",
   "metadata": {},
   "outputs": [
    {
     "data": {
      "text/plain": [
       "{'q': 0,\n",
       " 'x': 1,\n",
       " 'j': 2,\n",
       " 'z': 3,\n",
       " 'v': 4,\n",
       " 'f': 5,\n",
       " 'w': 6,\n",
       " 'k': 7,\n",
       " 'b': 8,\n",
       " 'g': 9,\n",
       " 'h': 10,\n",
       " 'm': 11,\n",
       " 'p': 12,\n",
       " 'c': 13,\n",
       " 'y': 14,\n",
       " 'd': 15,\n",
       " 'u': 16,\n",
       " 'n': 17,\n",
       " 't': 18,\n",
       " 'l': 19,\n",
       " 'i': 20,\n",
       " 'r': 21,\n",
       " 'o': 22,\n",
       " 'a': 23,\n",
       " 'e': 24,\n",
       " 's': 25}"
      ]
     },
     "execution_count": 43,
     "metadata": {},
     "output_type": "execute_result"
    }
   ],
   "source": [
    "letterdict"
   ]
  },
  {
   "cell_type": "markdown",
   "id": "ced77dbd",
   "metadata": {},
   "source": [
    "Let's see if any words include the top 5 letters (s,e,a,o,r)"
   ]
  },
  {
   "cell_type": "code",
   "execution_count": 6,
   "id": "123d646f",
   "metadata": {},
   "outputs": [
    {
     "data": {
      "text/plain": [
       "140      aeros\n",
       "549      arose\n",
       "10364    soare\n",
       "Name: 0, dtype: object"
      ]
     },
     "execution_count": 6,
     "metadata": {},
     "output_type": "execute_result"
    }
   ],
   "source": [
    "wordlist[wordlist.str.contains('a') & wordlist.str.contains('s')& wordlist.str.contains('e')\n",
    "        & wordlist.str.contains('o')& wordlist.str.contains('r')]"
   ]
  },
  {
   "cell_type": "markdown",
   "id": "e3dbc4f7",
   "metadata": {},
   "source": [
    "If that word completely fails what would be the next good word"
   ]
  },
  {
   "cell_type": "code",
   "execution_count": 7,
   "id": "7b38a6b4",
   "metadata": {},
   "outputs": [
    {
     "data": {
      "text/plain": [
       "11919    unlit\n",
       "11941    until\n",
       "Name: 0, dtype: object"
      ]
     },
     "execution_count": 7,
     "metadata": {},
     "output_type": "execute_result"
    }
   ],
   "source": [
    "wordlist[wordlist.str.contains('i') & wordlist.str.contains('l')& wordlist.str.contains('t')\n",
    "        & wordlist.str.contains('u')& wordlist.str.contains('n')]"
   ]
  },
  {
   "cell_type": "code",
   "execution_count": 8,
   "id": "0c9f9b48",
   "metadata": {},
   "outputs": [
    {
     "data": {
      "text/plain": [
       "Series([], Name: 0, dtype: object)"
      ]
     },
     "execution_count": 8,
     "metadata": {},
     "output_type": "execute_result"
    }
   ],
   "source": [
    "wordlist[wordlist.str.contains('d') & wordlist.str.contains('y')& wordlist.str.contains('c')\n",
    "        & wordlist.str.contains('p')& wordlist.str.contains('m')]"
   ]
  },
  {
   "cell_type": "code",
   "execution_count": 44,
   "id": "931aba55",
   "metadata": {
    "scrolled": true
   },
   "outputs": [],
   "source": [
    "testlist = wordlist[wordlist.str.contains('d') & wordlist.str.contains('y')& wordlist.str.contains('c')\n",
    "        ]"
   ]
  },
  {
   "cell_type": "code",
   "execution_count": 46,
   "id": "86e9fa94",
   "metadata": {},
   "outputs": [],
   "source": [
    "    letterdict = {'q': 0, 'x': 1, 'j': 2, 'z': 3, 'v': 4, 'f': 5, 'w': 6, 'k': 7, 'b': 8, 'g': 9, 'h': 10, 'm': 11, 'p': 12, 'c': 13, 'y': 14, 'd': 15, \n",
    "    'u': 16, 'n': 17, 't': 18, 'l': 19, 'i': 20, 'r': 21, 'o': 22, 'a': 23, 'e': 24, 's': 25}"
   ]
  },
  {
   "cell_type": "code",
   "execution_count": 64,
   "id": "b9a778ee",
   "metadata": {},
   "outputs": [],
   "source": [
    "        commonalitydict = {}\n",
    "        for word in testlist:\n",
    "            commonalityscore = 0\n",
    "            for letter in word:\n",
    "                commonalityscore += letterdict[letter]\n",
    "            commonalitydict[word] = commonalityscore"
   ]
  },
  {
   "cell_type": "code",
   "execution_count": 72,
   "id": "5a9e5cd4",
   "metadata": {},
   "outputs": [],
   "source": [
    "possibilities = []\n",
    "for x in commonalitydict:\n",
    "    if commonalitydict[x] == max(commonalitydict.values()):\n",
    "        possibilities.append(x)\n",
    "    "
   ]
  },
  {
   "cell_type": "code",
   "execution_count": 73,
   "id": "9ca35033",
   "metadata": {},
   "outputs": [
    {
     "data": {
      "text/plain": [
       "['decay', 'scody']"
      ]
     },
     "execution_count": 73,
     "metadata": {},
     "output_type": "execute_result"
    }
   ],
   "source": [
    "possibilities"
   ]
  },
  {
   "cell_type": "code",
   "execution_count": null,
   "id": "3ad3332e",
   "metadata": {},
   "outputs": [],
   "source": []
  }
 ],
 "metadata": {
  "kernelspec": {
   "display_name": "Python 3 (ipykernel)",
   "language": "python",
   "name": "python3"
  },
  "language_info": {
   "codemirror_mode": {
    "name": "ipython",
    "version": 3
   },
   "file_extension": ".py",
   "mimetype": "text/x-python",
   "name": "python",
   "nbconvert_exporter": "python",
   "pygments_lexer": "ipython3",
   "version": "3.9.7"
  }
 },
 "nbformat": 4,
 "nbformat_minor": 5
}
